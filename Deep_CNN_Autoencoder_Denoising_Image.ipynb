{
  "nbformat": 4,
  "nbformat_minor": 0,
  "metadata": {
    "colab": {
      "provenance": [],
      "gpuType": "T4",
      "authorship_tag": "ABX9TyOiwnzpo2+XCuCQG/WLaBLE",
      "include_colab_link": true
    },
    "kernelspec": {
      "name": "python3",
      "display_name": "Python 3"
    },
    "language_info": {
      "name": "python"
    },
    "accelerator": "GPU"
  },
  "cells": [
    {
      "cell_type": "markdown",
      "metadata": {
        "id": "view-in-github",
        "colab_type": "text"
      },
      "source": [
        "<a href=\"https://colab.research.google.com/github/kumar1607/Deep-CNN-Autoencoder---Denoising-Image/blob/main/Deep_CNN_Autoencoder_Denoising_Image.ipynb\" target=\"_parent\"><img src=\"https://colab.research.google.com/assets/colab-badge.svg\" alt=\"Open In Colab\"/></a>"
      ]
    },
    {
      "cell_type": "markdown",
      "source": [
        "#Autoencoder\n",
        "\n",
        "An autoencoder is an unsupervised learning technique for neural networks that learns efficient data representations (encoding) by training the network to ignore signal “noise.” Autoencoders can be used for image denoising, image compression, and, in some cases, even generation of image data.\n",
        "\n",
        "In the context of deep CNN autoencoders for image compression:\n",
        "\n",
        "#Max Pooling (Encoder):\n",
        "\n",
        "Shrinks image size: Reduces image dimensions while keeping the most prominent features (like edges). This compresses the data for efficient storage/transmission.\n",
        "\n",
        "#Up Sampling (Decoder):\n",
        "\n",
        "Expands image size: Increases the dimensions back to the original size. However, due to compression, some information loss might occur. The decoder tries to reconstruct the image using the compressed representation."
      ],
      "metadata": {
        "id": "hn6MzloobELF"
      }
    },
    {
      "cell_type": "markdown",
      "source": [
        "#Flow of Autoencoder\n",
        "\n",
        "Noisy Image -> Encoder -> Compressed Representation -> Decoder -> Reconstruct Clear Image"
      ],
      "metadata": {
        "id": "7r0wffINbNSQ"
      }
    },
    {
      "cell_type": "markdown",
      "source": [
        "#Import Modules"
      ],
      "metadata": {
        "id": "pGS6ZBRDcK7_"
      }
    },
    {
      "cell_type": "code",
      "execution_count": 1,
      "metadata": {
        "id": "rP4BngvBZ_sK"
      },
      "outputs": [],
      "source": [
        "\n",
        "import numpy as np  # Imports the NumPy library for numerical computations and array manipulation\n",
        "\n",
        "import matplotlib.pyplot as plt  # Imports the matplotlib.pyplot library for creating visualizations\n",
        "\n",
        "from keras import Sequential  # Imports the Sequential class from Keras for building neural network architectures\n",
        "\n",
        "from keras.layers import Dense, Conv2D, MaxPooling2D, UpSampling2D  # Imports specific layer types from Keras for building CNNs\n",
        "\n",
        "from keras.datasets import mnist  # Imports the MNIST dataset (handwritten digits) from Keras datasets\n"
      ]
    },
    {
      "cell_type": "markdown",
      "source": [
        "#Loading the Dataset"
      ],
      "metadata": {
        "id": "RyyqrRtGc_LA"
      }
    },
    {
      "cell_type": "code",
      "source": [
        "\n",
        "(x_train, _), (x_test, _) = mnist.load_data()"
      ],
      "metadata": {
        "colab": {
          "base_uri": "https://localhost:8080/"
        },
        "id": "E5jEi0WRaKPy",
        "outputId": "2dfca9d6-4129-4fd9-91a2-beb67b8d1646"
      },
      "execution_count": 2,
      "outputs": [
        {
          "output_type": "stream",
          "name": "stdout",
          "text": [
            "Downloading data from https://storage.googleapis.com/tensorflow/tf-keras-datasets/mnist.npz\n",
            "11490434/11490434 [==============================] - 0s 0us/step\n"
          ]
        }
      ]
    },
    {
      "cell_type": "code",
      "source": [
        "\n",
        "# normalizing the image data\n",
        "x_train = x_train.astype('float32') / 255\n",
        "x_test = x_test.astype('float32') / 255"
      ],
      "metadata": {
        "id": "QbkcfXeHaKSK"
      },
      "execution_count": 3,
      "outputs": []
    },
    {
      "cell_type": "code",
      "source": [
        "# reshaping in the input data for the model\n",
        "x_train = x_train.reshape(len(x_train), 28, 28, 1)\n",
        "x_test = x_test.reshape(len(x_test), 28, 28, 1)\n",
        "x_test.shape"
      ],
      "metadata": {
        "colab": {
          "base_uri": "https://localhost:8080/"
        },
        "id": "CIOLU9_raKVE",
        "outputId": "afdaf5a0-67ec-445f-831c-1dd58f55fa07"
      },
      "execution_count": 4,
      "outputs": [
        {
          "output_type": "execute_result",
          "data": {
            "text/plain": [
              "(10000, 28, 28, 1)"
            ]
          },
          "metadata": {},
          "execution_count": 4
        }
      ]
    },
    {
      "cell_type": "markdown",
      "source": [
        "#Adding Noise to the Image"
      ],
      "metadata": {
        "id": "zKz-QjIZdQIQ"
      }
    },
    {
      "cell_type": "code",
      "source": [
        "\n",
        "# adding noise\n",
        "noise_factor = 0.6\n",
        "x_train_noisy = x_train + noise_factor * np.random.normal(loc=0.0, scale=1.0, size=x_train.shape)\n",
        "x_test_noisy = x_test + noise_factor * np.random.normal(loc=0.0, scale=1.0, size=x_test.shape)\n",
        "\n",
        "\n",
        "# clip the values in the range of 0-1\n",
        "x_train_noisy = np.clip(x_train_noisy, 0., 1.)\n",
        "x_test_noisy = np.clip(x_test_noisy, 0., 1.)"
      ],
      "metadata": {
        "id": "YRqg80YzaKXr"
      },
      "execution_count": 6,
      "outputs": []
    },
    {
      "cell_type": "markdown",
      "source": [
        "\n",
        "This code injects noise into training and testing data (x_train and x_test) for image denoising. It adds Gaussian noise with a controllable intensity (noise_factor) and ensures pixel values stay within the valid 0-1 range for image data using clipping."
      ],
      "metadata": {
        "id": "Pl_e1rXuqXOt"
      }
    },
    {
      "cell_type": "markdown",
      "source": [
        "#Exploratory Data Analysis"
      ],
      "metadata": {
        "id": "dWdgrM5edd3s"
      }
    },
    {
      "cell_type": "code",
      "source": [
        "\n",
        "# randomly selecting input image\n",
        "index = np.random.randint(len(x_test))\n",
        "# plot the image\n",
        "plt.imshow(x_test[index].reshape(28,28))\n",
        "plt.gray()"
      ],
      "metadata": {
        "colab": {
          "base_uri": "https://localhost:8080/",
          "height": 430
        },
        "id": "N46rprkmaKaH",
        "outputId": "2e7b9d7c-e598-4a5a-c88b-083d1ea21f34"
      },
      "execution_count": 7,
      "outputs": [
        {
          "output_type": "display_data",
          "data": {
            "text/plain": [
              "<Figure size 640x480 with 1 Axes>"
            ],
            "image/png": "[encoded data removed]"
          },
          "metadata": {}
        }
      ]
    },
    {
      "cell_type": "code",
      "source": [
        "plt.imshow(x_test[index].reshape(28,28))\n",
        "plt.gray()"
      ],
      "metadata": {
        "colab": {
          "base_uri": "https://localhost:8080/",
          "height": 430
        },
        "id": "Tx9_W2PsaKcr",
        "outputId": "63b3ab04-340f-455c-e05a-0f4ffb2a0168"
      },
      "execution_count": 8,
      "outputs": [
        {
          "output_type": "display_data",
          "data": {
            "text/plain": [
              "<Figure size 640x480 with 1 Axes>"
            ],
            "image/png": "[encoded data removed]"
          },
          "metadata": {}
        }
      ]
    },
    {
      "cell_type": "markdown",
      "source": [
        "#Model Creation"
      ],
      "metadata": {
        "id": "FXyJbysQdveG"
      }
    },
    {
      "cell_type": "code",
      "source": [
        "\n",
        "model = Sequential([\n",
        "                    # encoder network\n",
        "                    Conv2D(32, 3, activation='relu', padding='same', input_shape=(28, 28, 1)),\n",
        "                    MaxPooling2D(2, padding='same'),\n",
        "                    Conv2D(16, 3, activation='relu', padding='same'),\n",
        "                    MaxPooling2D(2, padding='same'),\n",
        "                    # decoder network\n",
        "                    Conv2D(16, 3, activation='relu', padding='same'),\n",
        "                    UpSampling2D(2),\n",
        "                    Conv2D(32, 3, activation='relu', padding='same'),\n",
        "                    UpSampling2D(2),\n",
        "                    # output layer\n",
        "                    Conv2D(1, 3, activation='sigmoid', padding='same')\n",
        "])\n",
        "\n",
        "model.compile(optimizer='adam', loss='binary_crossentropy')\n",
        "model.summary()"
      ],
      "metadata": {
        "colab": {
          "base_uri": "https://localhost:8080/"
        },
        "id": "08rmCOpJaKfR",
        "outputId": "04726974-a35a-4fa2-f516-4781d4d91d0a"
      },
      "execution_count": 9,
      "outputs": [
        {
          "output_type": "stream",
          "name": "stdout",
          "text": [
            "Model: \"sequential\"\n",
            "_________________________________________________________________\n",
            " Layer (type)                Output Shape              Param #   \n",
            "=================================================================\n",
            " conv2d (Conv2D)             (None, 28, 28, 32)        320       \n",
            "                                                                 \n",
            " max_pooling2d (MaxPooling2  (None, 14, 14, 32)        0         \n",
            " D)                                                              \n",
            "                                                                 \n",
            " conv2d_1 (Conv2D)           (None, 14, 14, 16)        4624      \n",
            "                                                                 \n",
            " max_pooling2d_1 (MaxPoolin  (None, 7, 7, 16)          0         \n",
            " g2D)                                                            \n",
            "                                                                 \n",
            " conv2d_2 (Conv2D)           (None, 7, 7, 16)          2320      \n",
            "                                                                 \n",
            " up_sampling2d (UpSampling2  (None, 14, 14, 16)        0         \n",
            " D)                                                              \n",
            "                                                                 \n",
            " conv2d_3 (Conv2D)           (None, 14, 14, 32)        4640      \n",
            "                                                                 \n",
            " up_sampling2d_1 (UpSamplin  (None, 28, 28, 32)        0         \n",
            " g2D)                                                            \n",
            "                                                                 \n",
            " conv2d_4 (Conv2D)           (None, 28, 28, 1)         289       \n",
            "                                                                 \n",
            "=================================================================\n",
            "Total params: 12193 (47.63 KB)\n",
            "Trainable params: 12193 (47.63 KB)\n",
            "Non-trainable params: 0 (0.00 Byte)\n",
            "_________________________________________________________________\n"
          ]
        }
      ]
    },
    {
      "cell_type": "markdown",
      "source": [
        "**MaxPooling2D:** Downsamples images by taking the maximum value within local regions.\n",
        "\n",
        "**UpSampling2D:**  Upsamples images to increase spatial dimensions, commonly used in decoders.\n",
        "\n",
        "**activation='relu':** Rectified Linear Unit (ReLU) activation function, a common choice for introducing non-linearity.\n",
        "\n",
        "**Adam** = Adaptive Moment Estimation.\n",
        "It combines the benefits of other optimizers like AdaGrad and RMSProp to adjust learning rates for each parameter based on historical gradients. This can lead to faster convergence and better performance compared to simpler optimizers.\n",
        "\n",
        "**Binary crossentropy** measures the difference between the predicted probabilities (how likely a pixel is white) and the actual values (0 for black, 1 for white) in the reconstructed image. The goal is to minimize this loss during training, pushing the model to generate outputs that closely resemble the original clean images."
      ],
      "metadata": {
        "id": "_A5AFtlgre55"
      }
    },
    {
      "cell_type": "code",
      "source": [
        "# train the model\n",
        "model.fit(x_train_noisy, x_train, epochs=20, batch_size=256, validation_data=(x_test_noisy, x_test))\n"
      ],
      "metadata": {
        "colab": {
          "base_uri": "https://localhost:8080/"
        },
        "id": "SJYn_sFJaKhx",
        "outputId": "b2c49a56-2b77-4598-f8d6-a784a3e60534"
      },
      "execution_count": 10,
      "outputs": [
        {
          "output_type": "stream",
          "name": "stdout",
          "text": [
            "Epoch 1/20\n",
            "235/235 [==============================] - 12s 13ms/step - loss: 0.2451 - val_loss: 0.1581\n",
            "Epoch 2/20\n",
            "235/235 [==============================] - 3s 11ms/step - loss: 0.1481 - val_loss: 0.1399\n",
            "Epoch 3/20\n",
            "235/235 [==============================] - 2s 9ms/step - loss: 0.1376 - val_loss: 0.1362\n",
            "Epoch 4/20\n",
            "235/235 [==============================] - 2s 10ms/step - loss: 0.1331 - val_loss: 0.1304\n",
            "Epoch 5/20\n",
            "235/235 [==============================] - 3s 12ms/step - loss: 0.1301 - val_loss: 0.1278\n",
            "Epoch 6/20\n",
            "235/235 [==============================] - 3s 11ms/step - loss: 0.1280 - val_loss: 0.1257\n",
            "Epoch 7/20\n",
            "235/235 [==============================] - 5s 20ms/step - loss: 0.1259 - val_loss: 0.1235\n",
            "Epoch 8/20\n",
            "235/235 [==============================] - 4s 17ms/step - loss: 0.1243 - val_loss: 0.1221\n",
            "Epoch 9/20\n",
            "235/235 [==============================] - 4s 15ms/step - loss: 0.1228 - val_loss: 0.1210\n",
            "Epoch 10/20\n",
            "235/235 [==============================] - 3s 13ms/step - loss: 0.1216 - val_loss: 0.1197\n",
            "Epoch 11/20\n",
            "235/235 [==============================] - 3s 13ms/step - loss: 0.1206 - val_loss: 0.1191\n",
            "Epoch 12/20\n",
            "235/235 [==============================] - 2s 10ms/step - loss: 0.1197 - val_loss: 0.1180\n",
            "Epoch 13/20\n",
            "235/235 [==============================] - 2s 10ms/step - loss: 0.1189 - val_loss: 0.1174\n",
            "Epoch 14/20\n",
            "235/235 [==============================] - 2s 10ms/step - loss: 0.1181 - val_loss: 0.1168\n",
            "Epoch 15/20\n",
            "235/235 [==============================] - 3s 11ms/step - loss: 0.1176 - val_loss: 0.1162\n",
            "Epoch 16/20\n",
            "235/235 [==============================] - 3s 11ms/step - loss: 0.1172 - val_loss: 0.1160\n",
            "Epoch 17/20\n",
            "235/235 [==============================] - 2s 10ms/step - loss: 0.1166 - val_loss: 0.1154\n",
            "Epoch 18/20\n",
            "235/235 [==============================] - 2s 10ms/step - loss: 0.1162 - val_loss: 0.1161\n",
            "Epoch 19/20\n",
            "235/235 [==============================] - 2s 11ms/step - loss: 0.1159 - val_loss: 0.1147\n",
            "Epoch 20/20\n",
            "235/235 [==============================] - 3s 15ms/step - loss: 0.1156 - val_loss: 0.1147\n"
          ]
        },
        {
          "output_type": "execute_result",
          "data": {
            "text/plain": [
              "<keras.src.callbacks.History at 0x781790119510>"
            ]
          },
          "metadata": {},
          "execution_count": 10
        }
      ]
    },
    {
      "cell_type": "markdown",
      "source": [
        "# Visualize the Results"
      ],
      "metadata": {
        "id": "pB4IPUzFo3Qf"
      }
    },
    {
      "cell_type": "code",
      "source": [
        "# predicting the results from model (get compressed images)\n",
        "pred = model.predict(x_test_noisy)"
      ],
      "metadata": {
        "id": "6oF7AJonaKkC",
        "colab": {
          "base_uri": "https://localhost:8080/"
        },
        "outputId": "62de9cc4-4d4e-4eed-a50e-f74eafe5f293"
      },
      "execution_count": 11,
      "outputs": [
        {
          "output_type": "stream",
          "name": "stdout",
          "text": [
            "313/313 [==============================] - 1s 3ms/step\n"
          ]
        }
      ]
    },
    {
      "cell_type": "code",
      "source": [
        "\n",
        "# randomly select input image\n",
        "index = np.random.randint(len(x_test))\n",
        "# plot the image\n",
        "plt.imshow(x_test_noisy[index].reshape(28,28))\n",
        "plt.gray()\n"
      ],
      "metadata": {
        "id": "lcOPQE00aKnr",
        "colab": {
          "base_uri": "https://localhost:8080/",
          "height": 430
        },
        "outputId": "f3452eb6-5ad6-4779-df9b-ac494004f70d"
      },
      "execution_count": 12,
      "outputs": [
        {
          "output_type": "display_data",
          "data": {
            "text/plain": [
              "<Figure size 640x480 with 1 Axes>"
            ],
            "image/png": "[encoded data removed]"
          },
          "metadata": {}
        }
      ]
    },
    {
      "cell_type": "code",
      "source": [
        "\n",
        "# visualize compressed image\n",
        "plt.imshow(pred[index].reshape(28,28))\n",
        "plt.gray()"
      ],
      "metadata": {
        "colab": {
          "base_uri": "https://localhost:8080/",
          "height": 430
        },
        "id": "rXOw4GuZpPP5",
        "outputId": "9b012893-d2e5-494e-8c26-ac0a32fec44c"
      },
      "execution_count": 19,
      "outputs": [
        {
          "output_type": "display_data",
          "data": {
            "text/plain": [
              "<Figure size 640x480 with 1 Axes>"
            ],
            "image/png": "[encoded data removed]"
          },
          "metadata": {}
        }
      ]
    },
    {
      "cell_type": "code",
      "source": [
        "\n",
        "index = np.random.randint(len(x_test))\n",
        "plt.figure(figsize=(10, 4))\n",
        "# display original image\n",
        "ax = plt.subplot(1, 2, 1)\n",
        "plt.imshow(x_test_noisy[index].reshape(28,28))\n",
        "plt.gray()\n",
        "ax.get_xaxis().set_visible(False)\n",
        "ax.get_yaxis().set_visible(False)\n",
        "# display compressed image\n",
        "ax = plt.subplot(1, 2, 2)\n",
        "plt.imshow(pred[index].reshape(28,28))\n",
        "plt.gray() #Sets the colormap to grayscale, appropriate for displaying the black and white MNIST digits.\n",
        "ax.get_xaxis().set_visible(False)\n",
        "ax.get_yaxis().set_visible(False)\n",
        "plt.show()"
      ],
      "metadata": {
        "colab": {
          "base_uri": "https://localhost:8080/",
          "height": 345
        },
        "id": "4g5GcekFpPMe",
        "outputId": "e5d35745-157b-4583-d881-c4d72d07845f"
      },
      "execution_count": 18,
      "outputs": [
        {
          "output_type": "display_data",
          "data": {
            "text/plain": [
              "<Figure size 1000x400 with 2 Axes>"
            ],
            "image/png": "[encoded data removed]"
          },
          "metadata": {}
        }
      ]
    },
    {
      "cell_type": "code",
      "source": [],
      "metadata": {
        "id": "1X9ThZ6ApPCB"
      },
      "execution_count": null,
      "outputs": []
    }
  ]
}